{
 "cells": [
  {
   "cell_type": "markdown",
   "metadata": {},
   "source": [
    "# MA934 - Week 7 (assessed!) Problem Sheet\n",
    "\n",
    "## Deadline: 17:00 (UK time) on Friday 24 November \n",
    "\n",
    "For this assignment, you must create a new Jupyter notebook called MA934_Week7_UniID.ipynb to contain the implementations that you write. This should also be exported as a .pdf file such that all execution output (from data to plots) is visible as produced on your own machine. You can separate out individual tasks if you prefer, but the full submission should be made as a single .zip via [our website](https://warwick.ac.uk/fac/sci/mathsys/courses/msc/ma934/resources/assessedwork/ma934declaration). The platform will not allow you to upload more than one file.\n",
    "\n",
    "A few tips:\n",
    "- please make sure to debug intermediate outputs as you code along. You are welcome to design smaller test cases and toy problems to verify your work (even if they are not part of the final submission).\n",
    "- consider possible forms of input or arguments and make sure your solution can cope with *interesting* cases.\n",
    "- do not forget to comment your code and use Markdown cells to explain what you are doing. A perfectly functional solution with no information about the thought process will not receive more than a subset of the points (~$70\\%$ depending on the difficulty of the problem and how transparent the algorithm flow is). \n",
    "- generally getting used to writing tidy solutions is good practice. Feel free to use [online resources](https://www.ibm.com/docs/en/watson-studio-local/1.2.3?topic=notebooks-markdown-jupyter-cheatsheet) for editing guidance."
   ]
  },
  {
   "cell_type": "markdown",
   "metadata": {},
   "source": [
    "## Task 1 - insertion sort\n",
    "\n",
    "Add an implementation of the insertion sort algorithm to your solution. Check that it works by sorting some manageably small lists of random integers. The command ```random.sample(range(1, 200), 10)``` (after having imported the random module) creates a list of 10 random intergers in the range $1 - 200$ which you can use for more elaborate testing."
   ]
  },
  {
   "cell_type": "code",
   "execution_count": 1,
   "metadata": {},
   "outputs": [
    {
     "name": "stdout",
     "output_type": "stream",
     "text": [
      "insertionSort is tested succesfully!\n"
     ]
    }
   ],
   "source": [
    "import numpy as np\n",
    "\n",
    "def insertionSort(mas): #it returns mas sorted in ASCENDING order! if you need descending - take [::-1]\n",
    "    n=len(mas)\n",
    "    if (n==1):\n",
    "        return mas\n",
    "    for i in range(1,n): #go from left to right\n",
    "        for j in range(i-1,-1,-1): #go from mas[i] left up to beginning and find the place for mas[i]\n",
    "            if mas[j]>mas[j+1]:\n",
    "                tmp=mas[j]\n",
    "                mas[j]=mas[j+1]\n",
    "                mas[j+1]=tmp\n",
    "    return mas\n",
    "\n",
    "#test1\n",
    "mas=[5]\n",
    "assert(insertionSort(mas)==[5])\n",
    "\n",
    "#test2\n",
    "mas=[2,1,-1,1,3]\n",
    "assert(insertionSort(mas)==[-1,1,1,2,3])\n",
    "\n",
    "#test3\n",
    "available_choices=[x for x in range(-200,200,1)]\n",
    "for n in range(1,100,20):\n",
    "    mas=list(np.random.choice(available_choices, n))\n",
    "    my_result=insertionSort(mas)\n",
    "    ref_result=sorted(mas)\n",
    "    assert(my_result==ref_result)\n",
    "    \n",
    "print(\"insertionSort is tested succesfully!\")"
   ]
  },
  {
   "cell_type": "markdown",
   "metadata": {},
   "source": [
    "We see that massives of different sizes are sorted properly!"
   ]
  },
  {
   "cell_type": "markdown",
   "metadata": {},
   "source": [
    "## Task 2 - mergesort\n",
    "\n",
    "Consider two lists of integers, list1 and list2, having lengths $n$ and $m$, respectively. Assuming that the elements of list1 and list2 are already sorted in ascending order, the following recursive function merges them to return an array of length $n+m$ whose elements are sorted in ascending order:\n",
    "\n",
    "```Python\n",
    "    def interlace(list1, list2):\n",
    "    alist = []\n",
    "    if (len(list1) == 0):\n",
    "        return list2\n",
    "    elif (len(list2) == 0):\n",
    "        return list1\n",
    "    elif list1[0] < list2[0]:\n",
    "        alist.append(list1[0])\n",
    "        return alist + interlace(list1[1:], list2)\n",
    "    else:\n",
    "        alist.append(list2[0])\n",
    "        return alist + interlace(list1, list2[1:])\n",
    "```\n",
    "\n",
    "You have seen this function before (recall MA934_Week1_3_SortingAlgorithms.ipynb). Add it to your code, test it, and use it to implement the mergesort algorithm. Check that it works."
   ]
  },
  {
   "cell_type": "code",
   "execution_count": 2,
   "metadata": {},
   "outputs": [
    {
     "name": "stdout",
     "output_type": "stream",
     "text": [
      "For n=2048 recursive mergesort still works\n",
      "For n=4096 recursive mergesort reaches the recursion depth limit\n",
      "mergeSortRecursive is tested succesfully!\n"
     ]
    }
   ],
   "source": [
    "def mergeSortRecursive(mas):\n",
    "    def interlaceRecursive(list1, list2):\n",
    "        alist = []\n",
    "        if (len(list1) == 0):\n",
    "            return list2\n",
    "        elif (len(list2) == 0):\n",
    "            return list1\n",
    "        elif list1[0] < list2[0]:\n",
    "            alist.append(list1[0])\n",
    "            return alist + interlaceRecursive(list1[1:], list2)\n",
    "        else:\n",
    "            alist.append(list2[0])\n",
    "            return alist + interlaceRecursive(list1, list2[1:])\n",
    "    \n",
    "    n=len(mas)\n",
    "    if n == 1:\n",
    "        return mas  # an array of length 1 is already sorted\n",
    "    else: \n",
    "        m=n//2 #there was a bug: m=n/2 instead of m=n//2 was written\n",
    "        return interlaceRecursive(mergeSortRecursive(mas[0:m]), mergeSortRecursive(mas[m:n]))\n",
    "    \n",
    "\n",
    "#test1\n",
    "mas=[5]\n",
    "assert(mergeSortRecursive(mas)==[5])\n",
    "\n",
    "#test2\n",
    "mas=[2,1,-1,1,3]\n",
    "assert(mergeSortRecursive(mas)==[-1,1,1,2,3])\n",
    "\n",
    "#test3\n",
    "available_choices=[x for x in range(-200,200,1)]\n",
    "for n in range(1,100,20):\n",
    "    mas=list(np.random.choice(available_choices, n))\n",
    "    my_result=mergeSortRecursive(mas)\n",
    "    ref_result=sorted(mas)\n",
    "    assert(my_result==ref_result)\n",
    "\n",
    "#test4\n",
    "n=2**11\n",
    "mas=list(np.random.choice(10, n))\n",
    "my_result=mergeSortRecursive(mas)\n",
    "ref_result=sorted(mas)\n",
    "print(\"For n={} recursive mergesort still works\".format(n))\n",
    "assert(my_result==ref_result)\n",
    "\n",
    "#test5\n",
    "n=2**12\n",
    "mas=list(np.random.choice(10, n))\n",
    "try:\n",
    "    my_result=mergeSortRecursive(mas)\n",
    "    ref_result=sorted(mas)\n",
    "    print(\"For n={} recursive mergesort still works\".format(n))\n",
    "    assert(my_result==ref_result)\n",
    "except:\n",
    "    print(\"For n={} recursive mergesort reaches the recursion depth limit\".format(n))\n",
    "    \n",
    "print(\"mergeSortRecursive is tested succesfully!\")"
   ]
  },
  {
   "cell_type": "markdown",
   "metadata": {},
   "source": [
    "We see that massivs of small length are sorted well, \n",
    "but massive of length 4096 can't be sorted bt recursive meargesort due to exceeding maximum depth in recursion;\n",
    "And we also see that in the class realization there was a bug: $m=n/2$ (which gave non-integer m) instead of $m=n//2$"
   ]
  },
  {
   "cell_type": "markdown",
   "metadata": {},
   "source": [
    "## Task 3 - fixing mergesort\n",
    "\n",
    "You will probably find that your mergesort algorithm fails for moderately large array lengths (on my laptop, I could not viably process lists of length $2^{16}$ for example, but this is just a guide). The reason for this is that there are too many recursions: the code quickly exceeds the maximum allowed recursion depth. \n",
    "\n",
    "To fix this, write a non-recursive implementation of the ```interlace()``` function. Test your ```mergesort()``` function using the non-recursive version. How does it compare to the previous solution in terms of achievable list length?"
   ]
  },
  {
   "cell_type": "code",
   "execution_count": 3,
   "metadata": {},
   "outputs": [
    {
     "name": "stdout",
     "output_type": "stream",
     "text": [
      "For n=2048 recursive mergesort still works\n",
      "For n=32768 recursive mergesort still works\n",
      "For n=1048576 recursive mergesort still works\n",
      "mergeSortNonRecursive is tested succesfully!\n"
     ]
    }
   ],
   "source": [
    "def mergeSortNonRecursive(mas):\n",
    "    def interlaceNonRecursive(left, right): \n",
    "        otv=[]\n",
    "        i=j=0\n",
    "        while i < len(left) and j < len(right): \n",
    "            if left[i] < right[j]: \n",
    "                otv.append(left[i]) #we put into otv the least of \"current\" elements of left and right\n",
    "                i+=1\n",
    "            else: \n",
    "                otv.append(right[j]) #we put into otv the least of \"current\" elements of left and right\n",
    "                j+=1\n",
    "        while i < len(left):  #we put all remaining elements from left to otv, if right has already ended\n",
    "            otv.append(left[i])\n",
    "            i+=1\n",
    "        while j < len(right): #we put all remaining elements from right to otv, if left has already ended\n",
    "            otv.append(right[j])\n",
    "            j+=1\n",
    "        return otv\n",
    "    \n",
    "    n=len(mas)\n",
    "    if n == 1:\n",
    "        return mas  # an array of length 1 is already sorted\n",
    "    else: \n",
    "        m=n//2 #there was a bug: m=n/2 instead of m=n//2 was written\n",
    "        return interlaceNonRecursive(mergeSortNonRecursive(mas[0:m]), mergeSortNonRecursive(mas[m:n]))\n",
    "    \n",
    "#test1\n",
    "mas=[5]\n",
    "assert(mergeSortNonRecursive(mas)==[5])\n",
    "\n",
    "#test2\n",
    "mas=[2,1,-1,1,3]\n",
    "assert(mergeSortNonRecursive(mas)==[-1,1,1,2,3])\n",
    "\n",
    "#test3\n",
    "available_choices=[x for x in range(-200,200,1)]\n",
    "for n in range(1,100,20):\n",
    "    mas=list(np.random.choice(available_choices, n))\n",
    "    my_result=mergeSortNonRecursive(mas)\n",
    "    ref_result=sorted(mas)\n",
    "    assert(my_result==ref_result)\n",
    "\n",
    "#test4\n",
    "n=2**11\n",
    "mas=list(np.random.choice(10, n))\n",
    "my_result=mergeSortNonRecursive(mas)\n",
    "ref_result=sorted(mas)\n",
    "print(\"For n={} recursive mergesort still works\".format(n))\n",
    "assert(my_result==ref_result)\n",
    "\n",
    "#test5\n",
    "n=2**15\n",
    "mas=list(np.random.choice(10, n))\n",
    "my_result=mergeSortNonRecursive(mas)\n",
    "ref_result=sorted(mas)\n",
    "print(\"For n={} recursive mergesort still works\".format(n))\n",
    "assert(my_result==ref_result)\n",
    "\n",
    "#test6\n",
    "n=2**20\n",
    "mas=list(np.random.choice(10, n))\n",
    "try:\n",
    "    my_result=mergeSortNonRecursive(mas)\n",
    "    ref_result=sorted(mas)\n",
    "    print(\"For n={} recursive mergesort still works\".format(n))\n",
    "    assert(my_result==ref_result)\n",
    "except:\n",
    "    print(\"For n={} recursive mergesort reaches the recursion depth limit\".format(n))\n",
    "    \n",
    "print(\"mergeSortNonRecursive is tested succesfully!\")"
   ]
  },
  {
   "cell_type": "markdown",
   "metadata": {},
   "source": [
    "We see that nonrecursive mergesort sorts small massivs and it even sorts massive of length $2^{20}$, which was not true for recursive meargesort; my recursion limit is 3000"
   ]
  },
  {
   "cell_type": "code",
   "execution_count": 4,
   "metadata": {},
   "outputs": [
    {
     "name": "stdout",
     "output_type": "stream",
     "text": [
      "3000\n"
     ]
    }
   ],
   "source": [
    "import sys\n",
    "print(sys.getrecursionlimit())"
   ]
  },
  {
   "cell_type": "markdown",
   "metadata": {},
   "source": [
    "## Task 4 - runtime\n",
    "\n",
    "Measure the runtime of your insertion sort and mergesort functions for random arrays of integers in the range $2$ to $2^{20}$. Save your results to a file.\n",
    "\n",
    "This is the potentially complicated part of this task. Here are some pointers:\n",
    "- recall we have touched upon the topic of runtime measurement and benchmarking when discussing matrix-matrix multiplication. \n",
    "- especially for small datasets, running your code multiple times and averaging the runtime may prove useful.\n",
    "- this part of the worksheet will involve handling file operations; finding the key read/write functionality and getting accustomed to working with the documentation is an intentional part of the process, one that you should become more and more comfortable with."
   ]
  },
  {
   "cell_type": "code",
   "execution_count": 5,
   "metadata": {},
   "outputs": [
    {
     "name": "stderr",
     "output_type": "stream",
     "text": [
      " 73%|███████▎  | 8/11 [00:00<00:00, 30.23it/s]"
     ]
    },
    {
     "name": "stdout",
     "output_type": "stream",
     "text": [
      "i= 1\n",
      "i= 2\n",
      "i= 3\n",
      "i= 4\n",
      "i= 5\n",
      "i= 6\n",
      "i= 7\n",
      "i= 8\n",
      "i= 9\n",
      "i= 10\n",
      "i= 11\n"
     ]
    },
    {
     "name": "stderr",
     "output_type": "stream",
     "text": [
      "100%|██████████| 11/11 [00:10<00:00,  1.04it/s]"
     ]
    },
    {
     "name": "stdout",
     "output_type": "stream",
     "text": [
      "Computational time is calculated.\n",
      "Data is saved to Task4_results.txt\n"
     ]
    },
    {
     "name": "stderr",
     "output_type": "stream",
     "text": [
      "\n"
     ]
    }
   ],
   "source": [
    "import timeit\n",
    "from tqdm import tqdm\n",
    "\n",
    "#we go only to 2^12, because for greater i mergeSortRecursive will not work\n",
    "mas_of_i=range(1,12)\n",
    "\n",
    "# Initialise the list of runtimes with zeros\n",
    "runtimesInsertion = [np.float32(0.0)] * len(mas_of_i)\n",
    "runtimesMergeSortRecursive = [np.float32(0.0)] * len(mas_of_i)\n",
    "runtimesMergeSortNonRecursive = [np.float32(0.0)] * len(mas_of_i)\n",
    "\n",
    "# Initialise an iterator to zero as well\n",
    "j=0\n",
    "\n",
    "#how many times to run function for the same n and then average the resulting time\n",
    "amtToAverage=20\n",
    "\n",
    "\n",
    "for i in tqdm(mas_of_i):\n",
    "    n=2**i\n",
    "    print(\"i=\", i)\n",
    "    mas=list(np.random.choice(100, n))\n",
    "    #print(mas)\n",
    "    \n",
    "    s=0\n",
    "    for k in range(amtToAverage):\n",
    "        starttime = timeit.default_timer()\n",
    "        _ = insertionSort(mas)\n",
    "        s += timeit.default_timer() - starttime\n",
    "    runtimesInsertion[j] = s/amtToAverage\n",
    "    \n",
    "    s=0\n",
    "    for k in range(amtToAverage):\n",
    "        starttime = timeit.default_timer()\n",
    "        _ = mergeSortRecursive(mas)\n",
    "        s += timeit.default_timer() - starttime\n",
    "    runtimesMergeSortRecursive[j] = s/amtToAverage\n",
    "    \n",
    "    s=0\n",
    "    for k in range(amtToAverage):\n",
    "        starttime = timeit.default_timer()\n",
    "        _ = mergeSortNonRecursive(mas)\n",
    "        s += timeit.default_timer() - starttime\n",
    "    runtimesMergeSortNonRecursive[j] = s/amtToAverage\n",
    "    j=j+1\n",
    "    \n",
    "print('Computational time is calculated.')\n",
    "\n",
    "# write data to file \n",
    "with open(\"Task4_results.txt\",\"w\") as fout:\n",
    "    fout.write(\"Mas of length is:\\n\")\n",
    "    fout.write(\" \".join(map(str, [2**i for i in mas_of_i])))\n",
    "    fout.write(\"\\n\")\n",
    "    fout.write(\"Mas of runtimesInsertion times is:\\n\")\n",
    "    fout.write(\" \".join(map(str, runtimesInsertion)))\n",
    "    fout.write(\"\\n\")\n",
    "    fout.write(\"Mas of runtimesMergeSortRecursive times is:\\n\")\n",
    "    fout.write(\" \".join(map(str, runtimesMergeSortRecursive)))\n",
    "    fout.write(\"\\n\")\n",
    "    fout.write(\"Mas of runtimesMergeSortNonRecursive times is:\\n\")\n",
    "    fout.write(\" \".join(map(str, runtimesMergeSortNonRecursive)))\n",
    "    fout.write(\"\\n\")\n",
    "    \n",
    "print('Data is saved to Task4_results.txt')"
   ]
  },
  {
   "cell_type": "code",
   "execution_count": 7,
   "metadata": {},
   "outputs": [
    {
     "data": {
      "image/png": "[encoded data removed]",
      "text/plain": [
       "<Figure size 432x288 with 1 Axes>"
      ]
     },
     "metadata": {
      "needs_background": "light"
     },
     "output_type": "display_data"
    }
   ],
   "source": [
    "import matplotlib.pyplot as plt\n",
    "mas_of_n=[2**i for i in mas_of_i]\n",
    "plt.plot(mas_of_n, runtimesInsertion, label='InsertionSort')\n",
    "plt.plot(mas_of_n, runtimesMergeSortRecursive, label='MergeSortRecursive')\n",
    "plt.plot(mas_of_n, runtimesMergeSortNonRecursive, label='MergeSortNonRecursive')\n",
    "plt.xlabel(\"$n$\")\n",
    "plt.ylabel(\"$time(s)$\")\n",
    "plt.legend()\n",
    "plt.title('Computed times of 3 sorting algorithms')\n",
    "plt.show()"
   ]
  },
  {
   "cell_type": "markdown",
   "metadata": {},
   "source": [
    "We see that \n",
    "1) insertionsort is much slower than both mergesorts - and it is expected, because from lectures we know that InsertionSort makes  O($n^2$) operations on average, while meargesort makes O($n \\log n$) operations.\n",
    "2) Recursive mergesort is slower thar non recursive mergesort - and it is also expected, because recursion in expensive and requires additional resourse.\n",
    "And in task 5 we will analyse, \n",
    "to which power of n is proportional the time of each of three sorting algorithms"
   ]
  },
  {
   "cell_type": "markdown",
   "metadata": {},
   "source": [
    "## Task 5 - empirical analysis of computational complexity\n",
    "\n",
    "Load your runtime results back from the file and plot them on a log-log scale. Fit your data to determine how the computational cost scales with the length of the input array for large array sizes. How does this compare to theoretical expectations (which you should state and briefly justify)?"
   ]
  },
  {
   "cell_type": "code",
   "execution_count": 8,
   "metadata": {},
   "outputs": [],
   "source": [
    "results=[]\n",
    "#read results from file and save only numbers, but not comments\n",
    "with open(\"Task4_results.txt\",\"r\") as fin:\n",
    "    for el in fin:\n",
    "        el=el.strip().split()\n",
    "        if el[0][0].isdigit():\n",
    "            results.append(list(map(float,el)))\n",
    "\n",
    "mas_of_n=results[0]\n",
    "runtimesInsertion=results[1]\n",
    "runtimesMergeSortRecursive=results[2]\n",
    "runtimesMergeSortNonRecursive=results[3]"
   ]
  },
  {
   "cell_type": "code",
   "execution_count": 9,
   "metadata": {},
   "outputs": [
    {
     "data": {
      "image/png": "[encoded data removed]",
      "text/plain": [
       "<Figure size 864x576 with 1 Axes>"
      ]
     },
     "metadata": {
      "needs_background": "light"
     },
     "output_type": "display_data"
    }
   ],
   "source": [
    "#plt.rcParams.update({'font.size': 22})\n",
    "\n",
    "plt.figure(figsize=(12, 8))\n",
    "\n",
    "plt.loglog(mas_of_n, [i for i in runtimesInsertion], \"-ks\", label=r\"runtimesInsertion\", markersize=10, markerfacecolor=(0, 0.447, 0.741, 1))\n",
    "plt.loglog(mas_of_n, [i for i in runtimesMergeSortRecursive], \"-ks\", label=r\"runtimesMergeSortRecursive\", markersize=10, markerfacecolor=(0.85, 0.325, 0.098, 1))\n",
    "plt.loglog(mas_of_n, [i for i in runtimesMergeSortNonRecursive], \"-ks\", label=r\"runtimesMergeSortNonRecursive\", markersize=10, markerfacecolor=(0.3, 0.7, 0.1, 1))\n",
    "plt.loglog(mas_of_n, 1e-7*np.power(mas_of_n, 2.0), \"--kd\", label=r\"$n^2$\", markerfacecolor=(0, 0.447, 0.741, 1))\n",
    "plt.loglog(mas_of_n, 2e-6*np.array(mas_of_n*np.log(mas_of_n)), \"--kd\", label=r\"$nlog(n)$\", markerfacecolor=(0.3, 0.7, 0.1, 1))\n",
    "plt.loglog(mas_of_n, 1e-6*np.power(mas_of_n, 1.0), \"--kd\", label=r\"$n$\", markerfacecolor=(0.9, 0.1, 0.7, 0.7))\n",
    "plt.legend(loc=\"upper left\")\n",
    "\n",
    "plt.xlabel(r\"$n$\")\n",
    "plt.ylabel(r\"time $(s)$\")\n",
    "plt.xlim([0.9, 600])\n",
    "plt.ylim([1e-7, 1e2])\n",
    "plt.grid()\n",
    "plt.title('Computed times of 3 sorting algorithms in log-log scale')\n",
    "plt.show()"
   ]
  },
  {
   "cell_type": "markdown",
   "metadata": {},
   "source": [
    "We see that the blue Insertionsort times tend perfectly to the graph of $n^2$\n",
    "Let's check that the slope is right"
   ]
  },
  {
   "cell_type": "markdown",
   "metadata": {},
   "source": [
    "Recall that we expect time of meargesort be $T= C n^2$ (because for each item k we touch on average all elements from 1 to $k-1$, it is $k-1$ operations, and $\\sum_{k=1}^n (k-1) = 0.5n(n-1)$,  so $\\log T = \\log C + 2 \\log n$, \n",
    "so if we construct dependence of $\\log T$ on $\\log n$, there should be a line with slope 2. We check it and see number close to 2, it is good"
   ]
  },
  {
   "cell_type": "code",
   "execution_count": 10,
   "metadata": {},
   "outputs": [
    {
     "data": {
      "text/plain": [
       "2.1448059112638647"
      ]
     },
     "execution_count": 10,
     "metadata": {},
     "output_type": "execute_result"
    }
   ],
   "source": [
    "#for InsertionSort method\n",
    "logy = np.log(runtimesInsertion)\n",
    "(logy[-1] - logy[-2])/(np.log(2**mas_of_i[-1])-np.log(2**mas_of_i[-2]))"
   ]
  },
  {
   "cell_type": "markdown",
   "metadata": {},
   "source": [
    "About the mergesort times (green and orange squares) \n",
    "we understand that their graph lies lower that $n^2$, but higher than $n$,\n",
    "so it doesn't contradict to the fact that mergesort has compexity of order $O(n \\log n)$, but lets check "
   ]
  },
  {
   "cell_type": "markdown",
   "metadata": {},
   "source": [
    "$T=C n \\log n$ => $log T = \\log C + \\log n + \\log\\log n$, so we need to look at the slope of dependence of $\\log T$ from $\\log n + \\log\\log n$ "
   ]
  },
  {
   "cell_type": "code",
   "execution_count": 11,
   "metadata": {},
   "outputs": [
    {
     "data": {
      "text/plain": [
       "0.9890089882629994"
      ]
     },
     "execution_count": 11,
     "metadata": {},
     "output_type": "execute_result"
    }
   ],
   "source": [
    "#for MergeSortNonRecursive method\n",
    "logy = np.log(runtimesMergeSortNonRecursive)\n",
    "logn=np.log(mas_of_n)\n",
    "loglogn=np.log(logn)\n",
    "(logy[-1] - logy[-2])/(logn[-1]+loglogn[-1] - logn[-2]-loglogn[-2])"
   ]
  },
  {
   "cell_type": "markdown",
   "metadata": {},
   "source": [
    "The slope expected was 1, and we see 0.98, which is good"
   ]
  },
  {
   "cell_type": "markdown",
   "metadata": {},
   "source": [
    "Let's make sure that the complexity of MergeSortRecursive is $O(n\\log n)$. \n",
    "If $n=2^M$ is the power of 2, then at the level of $j=0,1,\\dots,M$ we will have $2^j$ small massives of length $n/2^j$;\n",
    "each pair of the massives requires interlace, and interlace of two massives of length $l$  takes not more than $6l=O(l)$ operations;\n",
    "So at level $j$ we will spent not more than $2^j \\cdot 6 n/2^j =6n$ operations. And the number of levels is $\\log n$ due to the fact that $n$ is the power of two; \n",
    "so in total we will need $O(n\\log n)$ operations, and it is what we wanted to prove."
   ]
  },
  {
   "cell_type": "code",
   "execution_count": null,
   "metadata": {},
   "outputs": [],
   "source": []
  }
 ],
 "metadata": {
  "kernelspec": {
   "display_name": "Python 3",
   "language": "python",
   "name": "python3"
  },
  "language_info": {
   "codemirror_mode": {
    "name": "ipython",
    "version": 3
   },
   "file_extension": ".py",
   "mimetype": "text/x-python",
   "name": "python",
   "nbconvert_exporter": "python",
   "pygments_lexer": "ipython3",
   "version": "3.7.3"
  }
 },
 "nbformat": 4,
 "nbformat_minor": 2
}
