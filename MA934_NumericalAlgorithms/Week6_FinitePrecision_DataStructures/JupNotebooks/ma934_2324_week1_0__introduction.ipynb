{
 "cells": [
  {
   "cell_type": "markdown",
   "metadata": {
    "slideshow": {
     "slide_type": "slide"
    }
   },
   "source": [
    "# MA934 - Numerical algorithms and optimisation\n",
    "\n",
    "## Lecturer: Radu Cimpeanu\n",
    "\n",
    "Email: __[Radu.Cimpeanu@warwick.ac.uk](mailto:Radu.Cimpeanu@warwick.ac.uk)__\n",
    "\n",
    "### Graduate Teaching Assistant: Oscar Holroyd\n",
    "\n",
    "Email: __[O.Holroyd@warwick.ac.uk](mailto:O.Holroyd@warwick.ac.uk)__\n",
    "\n",
    "______________________________________________________\n",
    "\n",
    "__[Module web page](https://warwick.ac.uk/fac/sci/mathsys/courses/msc/ma934/resources/)__\n",
    "\n"
   ]
  },
  {
   "cell_type": "markdown",
   "metadata": {
    "slideshow": {
     "slide_type": "slide"
    }
   },
   "source": [
    "### Lecture and class times\n",
    "**Lectures**  \n",
    "* Mondays 10:00 - 12:00 UK time in D1.07 (Complexity Seminar Room, Zeeman Building) \n",
    "* Thursdays 10:00 - 12:00 UK time in D1.07 (Complexity Seminar Room, Zeeman Building)\n",
    "\n",
    "**Classes**  \n",
    "* Mondays 13:00 - 15:00 UK time in D1.07 (Complexity Seminar Room, Zeeman Building)\n",
    "* Thursdays 13:00 - 15:00 UK time in D1.07 (Complexity Seminar Room, Zeeman Building)\n",
    "\n"
   ]
  },
  {
   "cell_type": "markdown",
   "metadata": {
    "slideshow": {
     "slide_type": "slide"
    }
   },
   "source": [
    "### Assessment\n",
    "\n",
    "Oral examination (40%)\n",
    "\n",
    "Coursework (60%) - 4 graded assignments worth 15% each\n"
   ]
  },
  {
   "cell_type": "markdown",
   "metadata": {
    "slideshow": {
     "slide_type": "slide"
    }
   },
   "source": [
    "### Deadlines\n",
    "\n",
    "| Item | Deadline |\n",
    "|--:|:--|\n",
    "|(unassessed, for feedback only!) Assignment 1 | 17:00 (UK time) on Friday 17 November |\n",
    "|(assessed, worth 15% of module mark) Assignment 2 | 17:00 (UK time) on Friday 24 November |\n",
    "|(assessed, worth 15% of module mark) Assignment 3 | 17:00 (UK time) on Friday 1 December |\n",
    "|(assessed, worth 15% of module mark) Assignment 4 | 17:00 (UK time) on Friday 8 December |\n",
    "|(assessed, worth 15% of module mark) Assignment 5 | 17:00 (UK time) on Friday 15 December |\n",
    "|Oral examinations | Wed-Fri 6-8 December |"
   ]
  },
  {
   "cell_type": "markdown",
   "metadata": {
    "slideshow": {
     "slide_type": "slide"
    }
   },
   "source": [
    "### Software\n",
    "\n",
    "* Email for communication outside lecture and classes\n",
    "* Python\n",
    "* Anaconda + Jupyter Notebooks\n",
    "* (optional but encouraged for assignment editing) LaTeX\n",
    "* (optional) git and an account on github (__[https://github.com/](https://github.com/)__)\n",
    "\n",
    "### Communication\n",
    "* I am happy to create an MS Team for the module if we think we need it - let's discuss!"
   ]
  },
  {
   "cell_type": "code",
   "execution_count": null,
   "metadata": {},
   "outputs": [],
   "source": []
  }
 ],
 "metadata": {
  "celltoolbar": "Slideshow",
  "kernelspec": {
   "display_name": "Python 3",
   "language": "python",
   "name": "python3"
  },
  "language_info": {
   "codemirror_mode": {
    "name": "ipython",
    "version": 3
   },
   "file_extension": ".py",
   "mimetype": "text/x-python",
   "name": "python",
   "nbconvert_exporter": "python",
   "pygments_lexer": "ipython3",
   "version": "3.8.5"
  }
 },
 "nbformat": 4,
 "nbformat_minor": 2
}
